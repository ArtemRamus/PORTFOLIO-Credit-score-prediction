{
 "cells": [
  {
   "cell_type": "markdown",
   "id": "dec5b08f",
   "metadata": {},
   "source": [
    "# Project: Credit score prediction"
   ]
  },
  {
   "cell_type": "markdown",
   "id": "c4dda3c8",
   "metadata": {},
   "source": [
    "## Conclusion: XGBoost regression R2 score is 0.94. Given limit criteria 25, percent of true prediction is  69%"
   ]
  },
  {
   "cell_type": "markdown",
   "id": "b6c7e98a",
   "metadata": {},
   "source": [
    "Link to the dataset: https://www.kaggle.com/prasy46/credit-score-prediction"
   ]
  },
  {
   "cell_type": "markdown",
   "id": "1b032161",
   "metadata": {},
   "source": [
    "## About the data from a publisher:\n",
    "We provide you with a data set in CSV format.\n",
    "The data set contains 8,000 train instances and 2000 test instance\n",
    "There are 304 input features, labeled x001 to x304.\n",
    "\n",
    "The target variable is labeled y.\n",
    "\n",
    "### Task Create a model to predict the target variable y.\n",
    "A report - A Power point presentation\n",
    "Any custom code you used\n",
    "Instructions for me to run your model on a separate data set"
   ]
  },
  {
   "cell_type": "markdown",
   "id": "0ebc7af7",
   "metadata": {},
   "source": [
    "# STEP 1: Learning the dataset and feature engineering"
   ]
  },
  {
   "cell_type": "code",
   "execution_count": 1,
   "id": "d216e214",
   "metadata": {},
   "outputs": [],
   "source": [
    "# importing libraries\n",
    "import numpy as np\n",
    "import pandas as pd\n",
    "import matplotlib.pyplot as plt\n",
    "import seaborn as sns\n",
    "import scipy.stats as stats # for Q-Q plots\n",
    "\n",
    "from sklearn.model_selection import train_test_split\n",
    "\n",
    "from sklearn.feature_selection import VarianceThreshold # for quasi-constant values detection\n",
    "\n",
    "from sklearn.ensemble import RandomForestRegressor\n",
    "from xgboost import XGBRegressor\n",
    "\n",
    "from sklearn.metrics import r2_score, mean_squared_error\n",
    "\n",
    "import warnings\n",
    "warnings.filterwarnings(\"ignore\")"
   ]
  },
  {
   "cell_type": "code",
   "execution_count": 2,
   "id": "c0c65d35",
   "metadata": {},
   "outputs": [],
   "source": [
    "# importing the training dataset\n",
    "df_train = pd.read_csv(\"CreditScore_train.csv\")"
   ]
  },
  {
   "cell_type": "code",
   "execution_count": 3,
   "id": "85832679",
   "metadata": {},
   "outputs": [],
   "source": [
    "# importing the test dataset\n",
    "df_test = pd.read_csv(\"CreditScore_test.csv\")"
   ]
  },
  {
   "cell_type": "code",
   "execution_count": 4,
   "id": "2e7d84a8",
   "metadata": {},
   "outputs": [
    {
     "data": {
      "text/html": [
       "<div>\n",
       "<style scoped>\n",
       "    .dataframe tbody tr th:only-of-type {\n",
       "        vertical-align: middle;\n",
       "    }\n",
       "\n",
       "    .dataframe tbody tr th {\n",
       "        vertical-align: top;\n",
       "    }\n",
       "\n",
       "    .dataframe thead th {\n",
       "        text-align: right;\n",
       "    }\n",
       "</style>\n",
       "<table border=\"1\" class=\"dataframe\">\n",
       "  <thead>\n",
       "    <tr style=\"text-align: right;\">\n",
       "      <th></th>\n",
       "      <th>x001</th>\n",
       "      <th>x002</th>\n",
       "      <th>x003</th>\n",
       "      <th>x004</th>\n",
       "      <th>x005</th>\n",
       "      <th>x006</th>\n",
       "      <th>x007</th>\n",
       "      <th>x008</th>\n",
       "      <th>x009</th>\n",
       "      <th>x010</th>\n",
       "      <th>...</th>\n",
       "      <th>x296</th>\n",
       "      <th>x297</th>\n",
       "      <th>x298</th>\n",
       "      <th>x299</th>\n",
       "      <th>x300</th>\n",
       "      <th>x301</th>\n",
       "      <th>x302</th>\n",
       "      <th>x303</th>\n",
       "      <th>x304</th>\n",
       "      <th>y</th>\n",
       "    </tr>\n",
       "  </thead>\n",
       "  <tbody>\n",
       "    <tr>\n",
       "      <th>0</th>\n",
       "      <td>1084094</td>\n",
       "      <td>426.0</td>\n",
       "      <td>39.0</td>\n",
       "      <td>128.0</td>\n",
       "      <td>426.0</td>\n",
       "      <td>0</td>\n",
       "      <td>0</td>\n",
       "      <td>0</td>\n",
       "      <td>0</td>\n",
       "      <td>0</td>\n",
       "      <td>...</td>\n",
       "      <td>0</td>\n",
       "      <td>NaN</td>\n",
       "      <td>0</td>\n",
       "      <td>0</td>\n",
       "      <td>0</td>\n",
       "      <td>0</td>\n",
       "      <td>NaN</td>\n",
       "      <td>0</td>\n",
       "      <td>NaN</td>\n",
       "      <td>807</td>\n",
       "    </tr>\n",
       "    <tr>\n",
       "      <th>1</th>\n",
       "      <td>1287777</td>\n",
       "      <td>160.0</td>\n",
       "      <td>2.0</td>\n",
       "      <td>64.0</td>\n",
       "      <td>160.0</td>\n",
       "      <td>1</td>\n",
       "      <td>1</td>\n",
       "      <td>2</td>\n",
       "      <td>0</td>\n",
       "      <td>1</td>\n",
       "      <td>...</td>\n",
       "      <td>17318</td>\n",
       "      <td>0.8417</td>\n",
       "      <td>1</td>\n",
       "      <td>1</td>\n",
       "      <td>1</td>\n",
       "      <td>0</td>\n",
       "      <td>NaN</td>\n",
       "      <td>0</td>\n",
       "      <td>NaN</td>\n",
       "      <td>819</td>\n",
       "    </tr>\n",
       "    <tr>\n",
       "      <th>2</th>\n",
       "      <td>1483016</td>\n",
       "      <td>163.0</td>\n",
       "      <td>16.0</td>\n",
       "      <td>104.0</td>\n",
       "      <td>239.0</td>\n",
       "      <td>0</td>\n",
       "      <td>0</td>\n",
       "      <td>0</td>\n",
       "      <td>1</td>\n",
       "      <td>0</td>\n",
       "      <td>...</td>\n",
       "      <td>0</td>\n",
       "      <td>NaN</td>\n",
       "      <td>0</td>\n",
       "      <td>0</td>\n",
       "      <td>0</td>\n",
       "      <td>0</td>\n",
       "      <td>NaN</td>\n",
       "      <td>0</td>\n",
       "      <td>NaN</td>\n",
       "      <td>803</td>\n",
       "    </tr>\n",
       "    <tr>\n",
       "      <th>3</th>\n",
       "      <td>959054</td>\n",
       "      <td>NaN</td>\n",
       "      <td>NaN</td>\n",
       "      <td>NaN</td>\n",
       "      <td>102.0</td>\n",
       "      <td>0</td>\n",
       "      <td>0</td>\n",
       "      <td>0</td>\n",
       "      <td>0</td>\n",
       "      <td>0</td>\n",
       "      <td>...</td>\n",
       "      <td>0</td>\n",
       "      <td>NaN</td>\n",
       "      <td>1</td>\n",
       "      <td>1</td>\n",
       "      <td>1</td>\n",
       "      <td>0</td>\n",
       "      <td>NaN</td>\n",
       "      <td>0</td>\n",
       "      <td>NaN</td>\n",
       "      <td>530</td>\n",
       "    </tr>\n",
       "    <tr>\n",
       "      <th>4</th>\n",
       "      <td>1342113</td>\n",
       "      <td>3.0</td>\n",
       "      <td>2.0</td>\n",
       "      <td>2.0</td>\n",
       "      <td>62.0</td>\n",
       "      <td>0</td>\n",
       "      <td>2</td>\n",
       "      <td>2</td>\n",
       "      <td>0</td>\n",
       "      <td>0</td>\n",
       "      <td>...</td>\n",
       "      <td>17413</td>\n",
       "      <td>1.0180</td>\n",
       "      <td>1</td>\n",
       "      <td>1</td>\n",
       "      <td>1</td>\n",
       "      <td>0</td>\n",
       "      <td>NaN</td>\n",
       "      <td>0</td>\n",
       "      <td>NaN</td>\n",
       "      <td>485</td>\n",
       "    </tr>\n",
       "  </tbody>\n",
       "</table>\n",
       "<p>5 rows × 305 columns</p>\n",
       "</div>"
      ],
      "text/plain": [
       "      x001   x002  x003   x004   x005  x006  x007  x008  x009  x010  ...  \\\n",
       "0  1084094  426.0  39.0  128.0  426.0     0     0     0     0     0  ...   \n",
       "1  1287777  160.0   2.0   64.0  160.0     1     1     2     0     1  ...   \n",
       "2  1483016  163.0  16.0  104.0  239.0     0     0     0     1     0  ...   \n",
       "3   959054    NaN   NaN    NaN  102.0     0     0     0     0     0  ...   \n",
       "4  1342113    3.0   2.0    2.0   62.0     0     2     2     0     0  ...   \n",
       "\n",
       "    x296    x297  x298  x299  x300  x301  x302  x303  x304    y  \n",
       "0      0     NaN     0     0     0     0   NaN     0   NaN  807  \n",
       "1  17318  0.8417     1     1     1     0   NaN     0   NaN  819  \n",
       "2      0     NaN     0     0     0     0   NaN     0   NaN  803  \n",
       "3      0     NaN     1     1     1     0   NaN     0   NaN  530  \n",
       "4  17413  1.0180     1     1     1     0   NaN     0   NaN  485  \n",
       "\n",
       "[5 rows x 305 columns]"
      ]
     },
     "execution_count": 4,
     "metadata": {},
     "output_type": "execute_result"
    }
   ],
   "source": [
    "# showing first five rows of the training dateset\n",
    "df_train.head()"
   ]
  },
  {
   "cell_type": "code",
   "execution_count": 5,
   "id": "dabef02d",
   "metadata": {},
   "outputs": [],
   "source": [
    "# showing the column names\n",
    "# list(df_train.columns)"
   ]
  },
  {
   "cell_type": "code",
   "execution_count": 6,
   "id": "485cf387",
   "metadata": {},
   "outputs": [
    {
     "name": "stdout",
     "output_type": "stream",
     "text": [
      "<class 'pandas.core.frame.DataFrame'>\n",
      "RangeIndex: 80000 entries, 0 to 79999\n",
      "Columns: 305 entries, x001 to y\n",
      "dtypes: float64(41), int64(264)\n",
      "memory usage: 186.2 MB\n"
     ]
    }
   ],
   "source": [
    "# showing statistical information about the training dataset\n",
    "df_train.info()"
   ]
  },
  {
   "cell_type": "code",
   "execution_count": 7,
   "id": "5a3c635e",
   "metadata": {},
   "outputs": [
    {
     "data": {
      "text/html": [
       "<div>\n",
       "<style scoped>\n",
       "    .dataframe tbody tr th:only-of-type {\n",
       "        vertical-align: middle;\n",
       "    }\n",
       "\n",
       "    .dataframe tbody tr th {\n",
       "        vertical-align: top;\n",
       "    }\n",
       "\n",
       "    .dataframe thead th {\n",
       "        text-align: right;\n",
       "    }\n",
       "</style>\n",
       "<table border=\"1\" class=\"dataframe\">\n",
       "  <thead>\n",
       "    <tr style=\"text-align: right;\">\n",
       "      <th></th>\n",
       "      <th>x001</th>\n",
       "      <th>x002</th>\n",
       "      <th>x003</th>\n",
       "      <th>x004</th>\n",
       "      <th>x005</th>\n",
       "      <th>x006</th>\n",
       "      <th>x007</th>\n",
       "      <th>x008</th>\n",
       "      <th>x009</th>\n",
       "      <th>x010</th>\n",
       "      <th>...</th>\n",
       "      <th>x296</th>\n",
       "      <th>x297</th>\n",
       "      <th>x298</th>\n",
       "      <th>x299</th>\n",
       "      <th>x300</th>\n",
       "      <th>x301</th>\n",
       "      <th>x302</th>\n",
       "      <th>x303</th>\n",
       "      <th>x304</th>\n",
       "      <th>y</th>\n",
       "    </tr>\n",
       "  </thead>\n",
       "  <tbody>\n",
       "    <tr>\n",
       "      <th>count</th>\n",
       "      <td>8.000000e+04</td>\n",
       "      <td>62815.000000</td>\n",
       "      <td>62815.000000</td>\n",
       "      <td>62819.000000</td>\n",
       "      <td>75133.000000</td>\n",
       "      <td>80000.000000</td>\n",
       "      <td>80000.000000</td>\n",
       "      <td>80000.000000</td>\n",
       "      <td>80000.000000</td>\n",
       "      <td>80000.000000</td>\n",
       "      <td>...</td>\n",
       "      <td>8.000000e+04</td>\n",
       "      <td>33562.000000</td>\n",
       "      <td>80000.000000</td>\n",
       "      <td>80000.000000</td>\n",
       "      <td>80000.000000</td>\n",
       "      <td>80000.000000</td>\n",
       "      <td>21529.000000</td>\n",
       "      <td>80000.000000</td>\n",
       "      <td>14544.000000</td>\n",
       "      <td>80000.000000</td>\n",
       "    </tr>\n",
       "    <tr>\n",
       "      <th>mean</th>\n",
       "      <td>1.218319e+06</td>\n",
       "      <td>125.607307</td>\n",
       "      <td>25.582520</td>\n",
       "      <td>65.379646</td>\n",
       "      <td>178.043563</td>\n",
       "      <td>0.313787</td>\n",
       "      <td>0.692450</td>\n",
       "      <td>1.385575</td>\n",
       "      <td>1.188738</td>\n",
       "      <td>1.026825</td>\n",
       "      <td>...</td>\n",
       "      <td>1.189691e+04</td>\n",
       "      <td>0.794797</td>\n",
       "      <td>0.543787</td>\n",
       "      <td>0.558600</td>\n",
       "      <td>0.582375</td>\n",
       "      <td>0.105762</td>\n",
       "      <td>2.941196</td>\n",
       "      <td>6443.203675</td>\n",
       "      <td>1.037589</td>\n",
       "      <td>619.397762</td>\n",
       "    </tr>\n",
       "    <tr>\n",
       "      <th>std</th>\n",
       "      <td>2.730146e+05</td>\n",
       "      <td>115.662548</td>\n",
       "      <td>49.067905</td>\n",
       "      <td>63.528938</td>\n",
       "      <td>124.431075</td>\n",
       "      <td>0.464034</td>\n",
       "      <td>1.364931</td>\n",
       "      <td>2.274164</td>\n",
       "      <td>2.014353</td>\n",
       "      <td>1.715173</td>\n",
       "      <td>...</td>\n",
       "      <td>3.325378e+04</td>\n",
       "      <td>0.281969</td>\n",
       "      <td>0.498082</td>\n",
       "      <td>0.496557</td>\n",
       "      <td>0.493171</td>\n",
       "      <td>0.307535</td>\n",
       "      <td>2.128464</td>\n",
       "      <td>24319.031452</td>\n",
       "      <td>0.328551</td>\n",
       "      <td>118.357217</td>\n",
       "    </tr>\n",
       "    <tr>\n",
       "      <th>min</th>\n",
       "      <td>5.170000e+02</td>\n",
       "      <td>0.000000</td>\n",
       "      <td>0.000000</td>\n",
       "      <td>0.000000</td>\n",
       "      <td>0.000000</td>\n",
       "      <td>0.000000</td>\n",
       "      <td>0.000000</td>\n",
       "      <td>0.000000</td>\n",
       "      <td>0.000000</td>\n",
       "      <td>0.000000</td>\n",
       "      <td>...</td>\n",
       "      <td>0.000000e+00</td>\n",
       "      <td>0.000000</td>\n",
       "      <td>0.000000</td>\n",
       "      <td>0.000000</td>\n",
       "      <td>0.000000</td>\n",
       "      <td>0.000000</td>\n",
       "      <td>1.000000</td>\n",
       "      <td>0.000000</td>\n",
       "      <td>0.000000</td>\n",
       "      <td>300.000000</td>\n",
       "    </tr>\n",
       "    <tr>\n",
       "      <th>25%</th>\n",
       "      <td>9.745528e+05</td>\n",
       "      <td>32.000000</td>\n",
       "      <td>3.000000</td>\n",
       "      <td>19.000000</td>\n",
       "      <td>87.000000</td>\n",
       "      <td>0.000000</td>\n",
       "      <td>0.000000</td>\n",
       "      <td>0.000000</td>\n",
       "      <td>0.000000</td>\n",
       "      <td>0.000000</td>\n",
       "      <td>...</td>\n",
       "      <td>0.000000e+00</td>\n",
       "      <td>0.638325</td>\n",
       "      <td>0.000000</td>\n",
       "      <td>0.000000</td>\n",
       "      <td>0.000000</td>\n",
       "      <td>0.000000</td>\n",
       "      <td>1.000000</td>\n",
       "      <td>0.000000</td>\n",
       "      <td>0.975800</td>\n",
       "      <td>524.000000</td>\n",
       "    </tr>\n",
       "    <tr>\n",
       "      <th>50%</th>\n",
       "      <td>1.235833e+06</td>\n",
       "      <td>100.000000</td>\n",
       "      <td>8.000000</td>\n",
       "      <td>48.000000</td>\n",
       "      <td>150.000000</td>\n",
       "      <td>0.000000</td>\n",
       "      <td>0.000000</td>\n",
       "      <td>1.000000</td>\n",
       "      <td>0.000000</td>\n",
       "      <td>0.000000</td>\n",
       "      <td>...</td>\n",
       "      <td>0.000000e+00</td>\n",
       "      <td>0.852600</td>\n",
       "      <td>1.000000</td>\n",
       "      <td>1.000000</td>\n",
       "      <td>1.000000</td>\n",
       "      <td>0.000000</td>\n",
       "      <td>1.000000</td>\n",
       "      <td>0.000000</td>\n",
       "      <td>1.048700</td>\n",
       "      <td>599.000000</td>\n",
       "    </tr>\n",
       "    <tr>\n",
       "      <th>75%</th>\n",
       "      <td>1.445546e+06</td>\n",
       "      <td>180.000000</td>\n",
       "      <td>24.000000</td>\n",
       "      <td>92.000000</td>\n",
       "      <td>246.000000</td>\n",
       "      <td>1.000000</td>\n",
       "      <td>1.000000</td>\n",
       "      <td>2.000000</td>\n",
       "      <td>2.000000</td>\n",
       "      <td>1.000000</td>\n",
       "      <td>...</td>\n",
       "      <td>1.299750e+04</td>\n",
       "      <td>0.982100</td>\n",
       "      <td>1.000000</td>\n",
       "      <td>1.000000</td>\n",
       "      <td>1.000000</td>\n",
       "      <td>0.000000</td>\n",
       "      <td>5.000000</td>\n",
       "      <td>0.000000</td>\n",
       "      <td>1.185225</td>\n",
       "      <td>719.000000</td>\n",
       "    </tr>\n",
       "    <tr>\n",
       "      <th>max</th>\n",
       "      <td>1.677197e+06</td>\n",
       "      <td>718.000000</td>\n",
       "      <td>704.000000</td>\n",
       "      <td>704.000000</td>\n",
       "      <td>790.000000</td>\n",
       "      <td>1.000000</td>\n",
       "      <td>43.000000</td>\n",
       "      <td>108.000000</td>\n",
       "      <td>78.000000</td>\n",
       "      <td>33.000000</td>\n",
       "      <td>...</td>\n",
       "      <td>2.696702e+06</td>\n",
       "      <td>4.691900</td>\n",
       "      <td>1.000000</td>\n",
       "      <td>1.000000</td>\n",
       "      <td>1.000000</td>\n",
       "      <td>1.000000</td>\n",
       "      <td>9.000000</td>\n",
       "      <td>785537.000000</td>\n",
       "      <td>5.156900</td>\n",
       "      <td>839.000000</td>\n",
       "    </tr>\n",
       "  </tbody>\n",
       "</table>\n",
       "<p>8 rows × 305 columns</p>\n",
       "</div>"
      ],
      "text/plain": [
       "               x001          x002          x003          x004          x005  \\\n",
       "count  8.000000e+04  62815.000000  62815.000000  62819.000000  75133.000000   \n",
       "mean   1.218319e+06    125.607307     25.582520     65.379646    178.043563   \n",
       "std    2.730146e+05    115.662548     49.067905     63.528938    124.431075   \n",
       "min    5.170000e+02      0.000000      0.000000      0.000000      0.000000   \n",
       "25%    9.745528e+05     32.000000      3.000000     19.000000     87.000000   \n",
       "50%    1.235833e+06    100.000000      8.000000     48.000000    150.000000   \n",
       "75%    1.445546e+06    180.000000     24.000000     92.000000    246.000000   \n",
       "max    1.677197e+06    718.000000    704.000000    704.000000    790.000000   \n",
       "\n",
       "               x006          x007          x008          x009          x010  \\\n",
       "count  80000.000000  80000.000000  80000.000000  80000.000000  80000.000000   \n",
       "mean       0.313787      0.692450      1.385575      1.188738      1.026825   \n",
       "std        0.464034      1.364931      2.274164      2.014353      1.715173   \n",
       "min        0.000000      0.000000      0.000000      0.000000      0.000000   \n",
       "25%        0.000000      0.000000      0.000000      0.000000      0.000000   \n",
       "50%        0.000000      0.000000      1.000000      0.000000      0.000000   \n",
       "75%        1.000000      1.000000      2.000000      2.000000      1.000000   \n",
       "max        1.000000     43.000000    108.000000     78.000000     33.000000   \n",
       "\n",
       "       ...          x296          x297          x298          x299  \\\n",
       "count  ...  8.000000e+04  33562.000000  80000.000000  80000.000000   \n",
       "mean   ...  1.189691e+04      0.794797      0.543787      0.558600   \n",
       "std    ...  3.325378e+04      0.281969      0.498082      0.496557   \n",
       "min    ...  0.000000e+00      0.000000      0.000000      0.000000   \n",
       "25%    ...  0.000000e+00      0.638325      0.000000      0.000000   \n",
       "50%    ...  0.000000e+00      0.852600      1.000000      1.000000   \n",
       "75%    ...  1.299750e+04      0.982100      1.000000      1.000000   \n",
       "max    ...  2.696702e+06      4.691900      1.000000      1.000000   \n",
       "\n",
       "               x300          x301          x302           x303          x304  \\\n",
       "count  80000.000000  80000.000000  21529.000000   80000.000000  14544.000000   \n",
       "mean       0.582375      0.105762      2.941196    6443.203675      1.037589   \n",
       "std        0.493171      0.307535      2.128464   24319.031452      0.328551   \n",
       "min        0.000000      0.000000      1.000000       0.000000      0.000000   \n",
       "25%        0.000000      0.000000      1.000000       0.000000      0.975800   \n",
       "50%        1.000000      0.000000      1.000000       0.000000      1.048700   \n",
       "75%        1.000000      0.000000      5.000000       0.000000      1.185225   \n",
       "max        1.000000      1.000000      9.000000  785537.000000      5.156900   \n",
       "\n",
       "                  y  \n",
       "count  80000.000000  \n",
       "mean     619.397762  \n",
       "std      118.357217  \n",
       "min      300.000000  \n",
       "25%      524.000000  \n",
       "50%      599.000000  \n",
       "75%      719.000000  \n",
       "max      839.000000  \n",
       "\n",
       "[8 rows x 305 columns]"
      ]
     },
     "execution_count": 7,
     "metadata": {},
     "output_type": "execute_result"
    }
   ],
   "source": [
    "# showing statistical data of the training dataset\n",
    "df_train.describe()"
   ]
  },
  {
   "cell_type": "markdown",
   "id": "d4074db3",
   "metadata": {},
   "source": [
    "#### Duplicated rows"
   ]
  },
  {
   "cell_type": "code",
   "execution_count": 8,
   "id": "972e6ac5",
   "metadata": {},
   "outputs": [
    {
     "data": {
      "text/plain": [
       "0"
      ]
     },
     "execution_count": 8,
     "metadata": {},
     "output_type": "execute_result"
    }
   ],
   "source": [
    "# checking duplicated rows\n",
    "df_train.duplicated().sum()"
   ]
  },
  {
   "cell_type": "markdown",
   "id": "6f62f5c9",
   "metadata": {},
   "source": [
    "#### Missing values"
   ]
  },
  {
   "cell_type": "code",
   "execution_count": 9,
   "id": "2bac7602",
   "metadata": {},
   "outputs": [
    {
     "data": {
      "text/plain": [
       "79982"
      ]
     },
     "execution_count": 9,
     "metadata": {},
     "output_type": "execute_result"
    }
   ],
   "source": [
    "# checking missing values\n",
    "df_train.isnull().any(axis = 1).sum()"
   ]
  },
  {
   "cell_type": "code",
   "execution_count": 10,
   "id": "44cdaa40",
   "metadata": {},
   "outputs": [
    {
     "name": "stdout",
     "output_type": "stream",
     "text": [
      "There is 41 features with null values\n"
     ]
    }
   ],
   "source": [
    "# counting null values per each column\n",
    "null_cols = []\n",
    "null_cols_names = []\n",
    "for col in df_train.columns:\n",
    "    if df_train[col].isnull().any() > 0:\n",
    "        null_cols.append([col,df_train[col].isnull().sum()])\n",
    "        null_cols_names.append(col)\n",
    "print('There is {} features with null values'.format(len(null_cols)))\n",
    "# null_cols"
   ]
  },
  {
   "cell_type": "code",
   "execution_count": 11,
   "id": "560b37ba",
   "metadata": {},
   "outputs": [],
   "source": [
    "# deleting duplicated features from the train_set & test_set\n",
    "df_train.drop(columns=null_cols_names,inplace=True)\n",
    "df_test.drop(columns=null_cols_names,inplace=True)"
   ]
  },
  {
   "cell_type": "code",
   "execution_count": 12,
   "id": "a578fed6",
   "metadata": {},
   "outputs": [
    {
     "data": {
      "text/plain": [
       "0"
      ]
     },
     "execution_count": 12,
     "metadata": {},
     "output_type": "execute_result"
    }
   ],
   "source": [
    "# checking missing values\n",
    "df_train.isnull().any(axis = 1).sum()"
   ]
  },
  {
   "cell_type": "markdown",
   "id": "a9b3d7e4",
   "metadata": {},
   "source": [
    "#### Constant features"
   ]
  },
  {
   "cell_type": "code",
   "execution_count": 13,
   "id": "9ab09686",
   "metadata": {},
   "outputs": [
    {
     "name": "stdout",
     "output_type": "stream",
     "text": [
      "There is 4 constant features\n"
     ]
    },
    {
     "data": {
      "text/plain": [
       "['x067', 'x094', 'x095', 'x096']"
      ]
     },
     "execution_count": 13,
     "metadata": {},
     "output_type": "execute_result"
    }
   ],
   "source": [
    "# to find variables that contain only 1 label/value\n",
    "# nunique() method from pandas is used, which returns the number\n",
    "# of different values in a variable.\n",
    "\n",
    "constant_features = [\n",
    "    feat for feat in df_train.columns if df_train[feat].nunique() == 1\n",
    "]\n",
    "\n",
    "\n",
    "print('There is {} constant features'.format(len(constant_features)))\n",
    "constant_features"
   ]
  },
  {
   "cell_type": "code",
   "execution_count": 14,
   "id": "d9d77c09",
   "metadata": {},
   "outputs": [],
   "source": [
    "# dropping the constant features from the train_set & test_set\n",
    "df_train.drop(columns=constant_features,inplace=True)\n",
    "df_test.drop(columns=constant_features,inplace=True)"
   ]
  },
  {
   "cell_type": "code",
   "execution_count": 15,
   "id": "d525aa4e",
   "metadata": {},
   "outputs": [
    {
     "name": "stdout",
     "output_type": "stream",
     "text": [
      "<class 'pandas.core.frame.DataFrame'>\n",
      "RangeIndex: 80000 entries, 0 to 79999\n",
      "Columns: 260 entries, x001 to y\n",
      "dtypes: int64(260)\n",
      "memory usage: 158.7 MB\n"
     ]
    }
   ],
   "source": [
    "# showing statistical information about the training dataset\n",
    "df_train.info()"
   ]
  },
  {
   "cell_type": "markdown",
   "id": "3bbb8f48",
   "metadata": {},
   "source": [
    "#### Quasi-constant features"
   ]
  },
  {
   "cell_type": "code",
   "execution_count": 16,
   "id": "66e63cf2",
   "metadata": {},
   "outputs": [
    {
     "data": {
      "text/plain": [
       "VarianceThreshold(threshold=0.01)"
      ]
     },
     "execution_count": 16,
     "metadata": {},
     "output_type": "execute_result"
    }
   ],
   "source": [
    "sel = VarianceThreshold(threshold=0.01)\n",
    "sel.fit(df_train)  # fit finds the features with low variance"
   ]
  },
  {
   "cell_type": "code",
   "execution_count": 17,
   "id": "7e311f59",
   "metadata": {},
   "outputs": [
    {
     "data": {
      "text/plain": [
       "255"
      ]
     },
     "execution_count": 17,
     "metadata": {},
     "output_type": "execute_result"
    }
   ],
   "source": [
    "# get_support is a boolean vector that indicates which features \n",
    "# are retained, that is, which features have a higher variance than\n",
    "# the threshold we indicated.\n",
    "\n",
    "# If we sum over get_support, we get the number\n",
    "# of features that are not quasi-constant\n",
    "\n",
    "sum(sel.get_support())"
   ]
  },
  {
   "cell_type": "code",
   "execution_count": 18,
   "id": "f1ea2af4",
   "metadata": {},
   "outputs": [
    {
     "name": "stdout",
     "output_type": "stream",
     "text": [
      "There is 5 quasi-constant features\n"
     ]
    },
    {
     "data": {
      "text/plain": [
       "Index(['x060', 'x077', 'x083', 'x084', 'x093'], dtype='object')"
      ]
     },
     "execution_count": 18,
     "metadata": {},
     "output_type": "execute_result"
    }
   ],
   "source": [
    "# let's print the number of quasi-constant features\n",
    "\n",
    "quasi_constant = df_train.columns[~sel.get_support()]\n",
    "print('There is {} quasi-constant features'.format(len(quasi_constant)))\n",
    "quasi_constant"
   ]
  },
  {
   "cell_type": "code",
   "execution_count": 19,
   "id": "23e12333",
   "metadata": {},
   "outputs": [
    {
     "name": "stdout",
     "output_type": "stream",
     "text": [
      "0    0.999975\n",
      "1    0.000025\n",
      "Name: x060, dtype: float64\n",
      "0    0.996613\n",
      "1    0.003350\n",
      "2    0.000037\n",
      "Name: x077, dtype: float64\n",
      "0    0.990663\n",
      "1    0.009338\n",
      "Name: x083, dtype: float64\n",
      "0    0.99485\n",
      "1    0.00515\n",
      "Name: x084, dtype: float64\n",
      "0    0.999275\n",
      "1    0.000725\n",
      "Name: x093, dtype: float64\n"
     ]
    }
   ],
   "source": [
    "# percentage of observations showing each of the different values\n",
    "# of the variable\n",
    "for feat in quasi_constant:\n",
    "    feat_values = df_train[feat].value_counts() / np.float(len(df_train))\n",
    "    print(feat_values)"
   ]
  },
  {
   "cell_type": "code",
   "execution_count": 20,
   "id": "d7717521",
   "metadata": {},
   "outputs": [],
   "source": [
    "# dropping the constant features from the train_set & test_set\n",
    "df_train.drop(columns=quasi_constant,inplace=True)\n",
    "df_test.drop(columns=quasi_constant,inplace=True)"
   ]
  },
  {
   "cell_type": "code",
   "execution_count": 21,
   "id": "29e079c9",
   "metadata": {},
   "outputs": [
    {
     "name": "stdout",
     "output_type": "stream",
     "text": [
      "<class 'pandas.core.frame.DataFrame'>\n",
      "RangeIndex: 80000 entries, 0 to 79999\n",
      "Columns: 255 entries, x001 to y\n",
      "dtypes: int64(255)\n",
      "memory usage: 155.6 MB\n"
     ]
    }
   ],
   "source": [
    "# showing statistical information about the training dataset\n",
    "df_train.info()"
   ]
  },
  {
   "cell_type": "markdown",
   "id": "53cb18ed",
   "metadata": {},
   "source": [
    "#### Correlated features"
   ]
  },
  {
   "cell_type": "code",
   "execution_count": 22,
   "id": "8367ae14",
   "metadata": {},
   "outputs": [
    {
     "data": {
      "text/html": [
       "<div>\n",
       "<style scoped>\n",
       "    .dataframe tbody tr th:only-of-type {\n",
       "        vertical-align: middle;\n",
       "    }\n",
       "\n",
       "    .dataframe tbody tr th {\n",
       "        vertical-align: top;\n",
       "    }\n",
       "\n",
       "    .dataframe thead th {\n",
       "        text-align: right;\n",
       "    }\n",
       "</style>\n",
       "<table border=\"1\" class=\"dataframe\">\n",
       "  <thead>\n",
       "    <tr style=\"text-align: right;\">\n",
       "      <th></th>\n",
       "      <th>feature1</th>\n",
       "      <th>feature2</th>\n",
       "      <th>corr</th>\n",
       "    </tr>\n",
       "  </thead>\n",
       "  <tbody>\n",
       "    <tr>\n",
       "      <th>0</th>\n",
       "      <td>x279</td>\n",
       "      <td>x273</td>\n",
       "      <td>0.997320</td>\n",
       "    </tr>\n",
       "    <tr>\n",
       "      <th>1</th>\n",
       "      <td>x273</td>\n",
       "      <td>x279</td>\n",
       "      <td>0.997320</td>\n",
       "    </tr>\n",
       "    <tr>\n",
       "      <th>2</th>\n",
       "      <td>x121</td>\n",
       "      <td>x111</td>\n",
       "      <td>0.994722</td>\n",
       "    </tr>\n",
       "    <tr>\n",
       "      <th>3</th>\n",
       "      <td>x111</td>\n",
       "      <td>x121</td>\n",
       "      <td>0.994722</td>\n",
       "    </tr>\n",
       "    <tr>\n",
       "      <th>4</th>\n",
       "      <td>x206</td>\n",
       "      <td>x216</td>\n",
       "      <td>0.990288</td>\n",
       "    </tr>\n",
       "  </tbody>\n",
       "</table>\n",
       "</div>"
      ],
      "text/plain": [
       "  feature1 feature2      corr\n",
       "0     x279     x273  0.997320\n",
       "1     x273     x279  0.997320\n",
       "2     x121     x111  0.994722\n",
       "3     x111     x121  0.994722\n",
       "4     x206     x216  0.990288"
      ]
     },
     "execution_count": 22,
     "metadata": {},
     "output_type": "execute_result"
    }
   ],
   "source": [
    "# building a dataframe with the correlation between features\n",
    "\n",
    "corrmat = df_train.corr()\n",
    "corrmat = corrmat.abs().unstack() # absolute value of corr coef\n",
    "corrmat = corrmat.sort_values(ascending=False)\n",
    "corrmat = corrmat[corrmat >= 0.9]\n",
    "corrmat = corrmat[corrmat < 1]\n",
    "corrmat = pd.DataFrame(corrmat).reset_index()\n",
    "corrmat.columns = ['feature1', 'feature2', 'corr']\n",
    "corrmat.head()"
   ]
  },
  {
   "cell_type": "code",
   "execution_count": 23,
   "id": "dba7d83f",
   "metadata": {},
   "outputs": [
    {
     "name": "stdout",
     "output_type": "stream",
     "text": [
      "found 51 correlated groups\n",
      "out of 255 total features\n"
     ]
    }
   ],
   "source": [
    "# finding groups of correlated features\n",
    "\n",
    "grouped_feature_ls = []\n",
    "correlated_groups = []\n",
    "\n",
    "for feature in corrmat.feature1.unique():\n",
    "    \n",
    "    if feature not in grouped_feature_ls:\n",
    "\n",
    "        # finding all features correlated to a single feature\n",
    "        correlated_block = corrmat[corrmat.feature1 == feature]\n",
    "        grouped_feature_ls = grouped_feature_ls + list(\n",
    "            correlated_block.feature2.unique()) + [feature]\n",
    "\n",
    "        # appending the block of features to the list\n",
    "        correlated_groups.append(correlated_block)\n",
    "\n",
    "print('found {} correlated groups'.format(len(correlated_groups)))\n",
    "print('out of {} total features'.format(df_train.shape[1]))"
   ]
  },
  {
   "cell_type": "code",
   "execution_count": 24,
   "id": "bb46d2d9",
   "metadata": {},
   "outputs": [
    {
     "name": "stdout",
     "output_type": "stream",
     "text": [
      "    feature1 feature2      corr\n",
      "0       x279     x273  0.997320\n",
      "58      x279     x292  0.971379\n",
      "90      x279     x258  0.965053\n",
      "103     x279     x281  0.963299\n",
      "\n",
      "    feature1 feature2      corr\n",
      "2       x121     x111  0.994722\n",
      "60      x121     x120  0.971286\n",
      "104     x121     x131  0.963061\n",
      "227     x121     x130  0.934912\n",
      "242     x121     x141  0.932285\n",
      "342     x121     x146  0.905708\n",
      "348     x121     x140  0.903316\n",
      "357     x121     x119  0.902453\n",
      "\n",
      "    feature1 feature2      corr\n",
      "4       x206     x216  0.990288\n",
      "57      x206     x221  0.971510\n",
      "74      x206     x196  0.968253\n",
      "174     x206     x205  0.949246\n",
      "203     x206     x215  0.941140\n",
      "270     x206     x220  0.925402\n",
      "300     x206     x195  0.916348\n",
      "\n",
      "    feature1 feature2      corr\n",
      "12      x204     x214  0.988300\n",
      "95      x204     x219  0.964618\n",
      "100     x204     x194  0.963683\n",
      "328     x204     x205  0.908785\n",
      "\n",
      "    feature1 feature2      corr\n",
      "14      x129     x139  0.988196\n",
      "110     x129     x144  0.961506\n",
      "142     x129     x119  0.956761\n",
      "198     x129     x130  0.942263\n",
      "244     x129     x140  0.932144\n",
      "334     x129     x120  0.907589\n",
      "354     x129     x145  0.902643\n",
      "\n",
      "   feature1 feature2      corr\n",
      "18     x166     x167  0.987154\n",
      "62     x166     x165  0.970744\n",
      "\n",
      "    feature1 feature2      corr\n",
      "22      x138     x128  0.985690\n",
      "51      x138     x143  0.975808\n",
      "310     x138     x118  0.913874\n",
      "\n",
      "    feature1 feature2      corr\n",
      "26      x260     x261  0.982754\n",
      "113     x260     x262  0.961273\n",
      "\n",
      "    feature1 feature2      corr\n",
      "30      x059     x065  0.981851\n",
      "238     x059     x073  0.932475\n",
      "359     x059     x064  0.902248\n",
      "\n",
      "    feature1 feature2      corr\n",
      "32      x213     x203  0.981218\n",
      "49      x213     x218  0.976292\n",
      "365     x213     x193  0.901963\n",
      "\n",
      "    feature1 feature2      corr\n",
      "36      x127     x137  0.980322\n",
      "151     x127     x117  0.952997\n",
      "210     x127     x212  0.938874\n",
      "269     x127     x142  0.925607\n",
      "295     x127     x202  0.917265\n",
      "\n",
      "   feature1 feature2      corr\n",
      "38     x246     x245  0.980033\n",
      "87     x246     x247  0.965325\n",
      "\n",
      "    feature1 feature2      corr\n",
      "44      x115     x116  0.978062\n",
      "124     x115     x114  0.960012\n",
      "\n",
      "    feature1 feature2      corr\n",
      "46      x152     x153  0.977777\n",
      "120     x152     x151  0.960245\n",
      "\n",
      "    feature1 feature2      corr\n",
      "52      x269     x270  0.975629\n",
      "217     x269     x271  0.937637\n",
      "\n",
      "    feature1 feature2      corr\n",
      "54      x159     x160  0.975146\n",
      "128     x159     x158  0.959486\n",
      "\n",
      "    feature1 feature2      corr\n",
      "64      x299     x298  0.970503\n",
      "157     x299     x300  0.952634\n",
      "\n",
      "    feature1 feature2      corr\n",
      "82      x072     x066  0.966374\n",
      "267     x072     x074  0.926326\n",
      "\n",
      "    feature1 feature2      corr\n",
      "92      x282     x283  0.964846\n",
      "286     x282     x284  0.918672\n",
      "\n",
      "   feature1 feature2      corr\n",
      "98     x136     x135  0.963956\n",
      "\n",
      "    feature1 feature2      corr\n",
      "108     x226     x225  0.961587\n",
      "241     x226     x227  0.932312\n",
      "\n",
      "    feature1 feature2      corr\n",
      "118     x190     x191  0.960517\n",
      "207     x190     x189  0.940171\n",
      "\n",
      "    feature1 feature2      corr\n",
      "134     x028     x250  0.958707\n",
      "\n",
      "    feature1 feature2      corr\n",
      "153     x217     x212  0.952885\n",
      "164     x217     x142  0.950684\n",
      "303     x217     x137  0.916233\n",
      "\n",
      "    feature1 feature2      corr\n",
      "160     x173     x168  0.952432\n",
      "\n",
      "    feature1 feature2      corr\n",
      "166     x192     x202  0.950294\n",
      "362     x192     x117  0.902018\n",
      "\n",
      "    feature1 feature2      corr\n",
      "168     x099     x277  0.950283\n",
      "\n",
      "    feature1 feature2      corr\n",
      "170     x276     x277  0.950283\n",
      "\n",
      "    feature1 feature2      corr\n",
      "172     x025     x249  0.949981\n",
      "\n",
      "    feature1 feature2      corr\n",
      "182     x126     x125  0.946534\n",
      "\n",
      "    feature1 feature2      corr\n",
      "188     x224     x225  0.943473\n",
      "\n",
      "    feature1 feature2      corr\n",
      "192     x210     x211  0.943297\n",
      "\n",
      "    feature1 feature2      corr\n",
      "196     x179     x174  0.942331\n",
      "375     x179     x178  0.900075\n",
      "\n",
      "    feature1 feature2      corr\n",
      "222     x015     x017  0.936876\n",
      "\n",
      "    feature1 feature2      corr\n",
      "224     x105     x104  0.935251\n",
      "\n",
      "    feature1 feature2      corr\n",
      "236     x291     x296  0.932617\n",
      "\n",
      "    feature1 feature2      corr\n",
      "246     x134     x135  0.932074\n",
      "\n",
      "    feature1 feature2      corr\n",
      "256     x201     x200  0.929414\n",
      "\n",
      "    feature1 feature2      corr\n",
      "276     x157     x158  0.923843\n",
      "291     x157     x156  0.918105\n",
      "\n",
      "    feature1 feature2      corr\n",
      "278     x133     x208  0.923283\n",
      "\n",
      "    feature1 feature2      corr\n",
      "292     x164     x165  0.917279\n",
      "\n",
      "    feature1 feature2      corr\n",
      "298     x186     x196  0.916424\n",
      "\n",
      "    feature1 feature2      corr\n",
      "306     x177     x178  0.914485\n",
      "\n",
      "    feature1 feature2      corr\n",
      "308     x278     x277  0.913947\n",
      "\n",
      "    feature1 feature2    corr\n",
      "316     x030     x020  0.9134\n",
      "\n",
      "    feature1 feature2      corr\n",
      "318     x188     x113  0.912165\n",
      "\n",
      "    feature1 feature2      corr\n",
      "324     x171     x172  0.909628\n",
      "\n",
      "    feature1 feature2      corr\n",
      "332     x124     x125  0.908364\n",
      "\n",
      "    feature1 feature2      corr\n",
      "338     x150     x149  0.906197\n",
      "\n",
      "    feature1 feature2      corr\n",
      "340     x207     x132  0.905977\n",
      "\n",
      "    feature1 feature2      corr\n",
      "344     x112     x187  0.904967\n",
      "\n"
     ]
    }
   ],
   "source": [
    "# printing out each group\n",
    "for group in correlated_groups:\n",
    "    print(group)\n",
    "    print()"
   ]
  },
  {
   "cell_type": "markdown",
   "id": "7647660c",
   "metadata": {},
   "source": [
    "#### Checking correlation with the target for features in each correlated group"
   ]
  },
  {
   "cell_type": "code",
   "execution_count": 25,
   "id": "cd190eba",
   "metadata": {},
   "outputs": [
    {
     "name": "stdout",
     "output_type": "stream",
     "text": [
      "<class 'pandas.core.frame.DataFrame'>\n",
      "RangeIndex: 80000 entries, 0 to 79999\n",
      "Columns: 255 entries, x001 to y\n",
      "dtypes: int64(255)\n",
      "memory usage: 155.6 MB\n"
     ]
    }
   ],
   "source": [
    "# showing statistical information about the training dataset\n",
    "df_train.info()"
   ]
  },
  {
   "cell_type": "code",
   "execution_count": 26,
   "id": "a4c0bddf",
   "metadata": {},
   "outputs": [],
   "source": [
    "# making a function to delete less correlated features and leave one most correlated feature for each group\n",
    "def less_correlated_features(df_group):\n",
    "    # making unique list of correlated features\n",
    "    correlated_feat = df_group.feature2.append(df_group.feature1).unique().tolist()\n",
    "\n",
    "    # adding 'y' to the list\n",
    "    correlated_feat.append('y')\n",
    "    # print(correlated_feat)\n",
    "    # print('\\n')\n",
    "\n",
    "    # making list of correlation coefficient with 'y'\n",
    "    corr_matrix = df_train[correlated_feat].corr(method='pearson')\n",
    "\n",
    "    # making list of less correlatd features\n",
    "    features_to_drop = pd.DataFrame(data=corr_matrix['y'].drop('y')).sort_values(by='y', ascending=False)\n",
    "    features_to_drop = features_to_drop.iloc[1: , :]\n",
    "    features_to_drop = features_to_drop.index.tolist()\n",
    "    \n",
    "    return features_to_drop"
   ]
  },
  {
   "cell_type": "code",
   "execution_count": 27,
   "id": "c7c88469",
   "metadata": {},
   "outputs": [
    {
     "name": "stdout",
     "output_type": "stream",
     "text": [
      "Deleting 103 features\n"
     ]
    }
   ],
   "source": [
    "# deleting less correlated features and leaving one most correlated feature for each group\n",
    "features_to_drop_total = []\n",
    "for df_group in correlated_groups:\n",
    "    feat = list(less_correlated_features(df_group))\n",
    "    features_to_drop_total += feat \n",
    "print('Deleting {} features'.format(len(features_to_drop_total)))\n",
    "\n",
    "# dropping the less correlated features from the train_set & test_set\n",
    "df_train.drop(columns=features_to_drop_total,inplace=True)\n",
    "df_test.drop(columns=features_to_drop_total,inplace=True)"
   ]
  },
  {
   "cell_type": "code",
   "execution_count": 28,
   "id": "baa40780",
   "metadata": {},
   "outputs": [
    {
     "name": "stdout",
     "output_type": "stream",
     "text": [
      "<class 'pandas.core.frame.DataFrame'>\n",
      "RangeIndex: 80000 entries, 0 to 79999\n",
      "Columns: 162 entries, x001 to y\n",
      "dtypes: int64(162)\n",
      "memory usage: 98.9 MB\n"
     ]
    }
   ],
   "source": [
    "# showing statistical information about the training dataset\n",
    "df_train.info()"
   ]
  },
  {
   "cell_type": "markdown",
   "id": "ba55ef4f",
   "metadata": {},
   "source": [
    "# STEP 2: Choosing best performing regression model"
   ]
  },
  {
   "cell_type": "code",
   "execution_count": 29,
   "id": "7fa1c1b3",
   "metadata": {},
   "outputs": [],
   "source": [
    "# making X_train, y_train, X_test and y_test\n",
    "X_train = df_train.drop(columns=['y']).to_numpy()\n",
    "X_test = df_test.drop(columns=['y']).to_numpy()\n",
    "y_train = df_train['y'].to_numpy()\n",
    "y_test = df_test['y'].to_numpy()"
   ]
  },
  {
   "cell_type": "markdown",
   "id": "e356f0c3",
   "metadata": {},
   "source": [
    "### Random forest regression"
   ]
  },
  {
   "cell_type": "code",
   "execution_count": 35,
   "id": "6857d3b4",
   "metadata": {},
   "outputs": [],
   "source": [
    "# training the random forest regression model on the Training set\n",
    "# reg_rf = RandomForestRegressor(random_state=42)\n",
    "# g_rf.fit(X_train, y_train)\n",
    "\n",
    "# predicting the Test set results\n",
    "# y_pred = reg_rf.predict(X_test)\n",
    "# print('R square: {}'.format(r2_score(y_test, y_pred)))\n",
    "# print('RMSE: {}'.format(mean_squared_error(y_test, y_pred,squared=True)))"
   ]
  },
  {
   "cell_type": "markdown",
   "id": "5f9012e9",
   "metadata": {},
   "source": [
    "### XGBoost regression"
   ]
  },
  {
   "cell_type": "code",
   "execution_count": 31,
   "id": "660ed62b",
   "metadata": {},
   "outputs": [
    {
     "name": "stdout",
     "output_type": "stream",
     "text": [
      "R square: 0.9396437736747255\n",
      "RMSE: 852.9315701216731\n"
     ]
    }
   ],
   "source": [
    "# training the XGBoost regression model on the Training set\n",
    "reg_xgb = XGBRegressor(random_state=42)\n",
    "reg_xgb.fit(X_train, y_train)\n",
    "\n",
    "# predicting the Test set results\n",
    "y_pred = reg_xgb.predict(X_test)\n",
    "print('R square: {}'.format(r2_score(y_test, y_pred)))\n",
    "print('RMSE: {}'.format(mean_squared_error(y_test, y_pred,squared=True)))"
   ]
  },
  {
   "cell_type": "code",
   "execution_count": 65,
   "id": "dd96937a",
   "metadata": {},
   "outputs": [
    {
     "data": {
      "text/plain": [
       "(20000, 2)"
      ]
     },
     "execution_count": 65,
     "metadata": {},
     "output_type": "execute_result"
    }
   ],
   "source": [
    "# showing y_pred next to y_test\n",
    "y_pred_t = y_pred.reshape((-1, 1))\n",
    "y_test_t = y_test.reshape((-1, 1))\n",
    "y = np.hstack((y_pred_t, y_test_t))\n",
    "df_y = pd.DataFrame(data=y,columns=['Y_pred','Y_test'])\n",
    "df_y.shape"
   ]
  },
  {
   "cell_type": "markdown",
   "id": "43ba1029",
   "metadata": {},
   "source": [
    "#### Exploting the solution"
   ]
  },
  {
   "cell_type": "code",
   "execution_count": 69,
   "id": "43aa480f",
   "metadata": {},
   "outputs": [],
   "source": [
    "df_y['Y_test - Y_pred'] = df_y['Y_test'] - df_y['Y_pred']"
   ]
  },
  {
   "cell_type": "code",
   "execution_count": 71,
   "id": "f9315a75",
   "metadata": {},
   "outputs": [
    {
     "data": {
      "image/png": "[encoded data removed]",
      "text/plain": [
       "<Figure size 1152x576 with 1 Axes>"
      ]
     },
     "metadata": {
      "needs_background": "light"
     },
     "output_type": "display_data"
    }
   ],
   "source": [
    "df_y['Y_test - Y_pred'].plot(figsize=(16,8));"
   ]
  },
  {
   "cell_type": "code",
   "execution_count": 115,
   "id": "7908721b",
   "metadata": {},
   "outputs": [],
   "source": [
    "# applying a limit criteria = abs(y_test - y_pred)\n",
    "criteria = 25\n",
    "def criterion(x):\n",
    "    if np.abs(x) < criteria:\n",
    "        return 1\n",
    "    else:\n",
    "        return 0\n",
    "\n",
    "df_y['Criteria'] = df_y['Y_test - Y_pred'].apply(lambda x: criterion(x))"
   ]
  },
  {
   "cell_type": "code",
   "execution_count": 116,
   "id": "d0ea3e70",
   "metadata": {},
   "outputs": [
    {
     "data": {
      "text/plain": [
       "1    13761\n",
       "0     6239\n",
       "Name: Criteria, dtype: int64"
      ]
     },
     "execution_count": 116,
     "metadata": {},
     "output_type": "execute_result"
    }
   ],
   "source": [
    "df_y_class = df_y['Criteria'].value_counts()\n",
    "df_y_class"
   ]
  },
  {
   "cell_type": "code",
   "execution_count": 119,
   "id": "f537084a",
   "metadata": {},
   "outputs": [
    {
     "name": "stdout",
     "output_type": "stream",
     "text": [
      "Given limit criteria 25, percent of true prediction is  69%\n"
     ]
    }
   ],
   "source": [
    "print('Given limit criteria {}, percent of true prediction is {: .0%}'.format(criteria,df_y_class[1] / len(df_y)))"
   ]
  },
  {
   "cell_type": "markdown",
   "id": "1face11c",
   "metadata": {},
   "source": [
    "## Conclusion: XGBoost regression R2 score is 0.94. Given limit criteria 25, percent of true prediction is  69%"
   ]
  },
  {
   "cell_type": "code",
   "execution_count": null,
   "id": "bc6aae5e",
   "metadata": {},
   "outputs": [],
   "source": []
  }
 ],
 "metadata": {
  "kernelspec": {
   "display_name": "Python 3",
   "language": "python",
   "name": "python3"
  },
  "language_info": {
   "codemirror_mode": {
    "name": "ipython",
    "version": 3
   },
   "file_extension": ".py",
   "mimetype": "text/x-python",
   "name": "python",
   "nbconvert_exporter": "python",
   "pygments_lexer": "ipython3",
   "version": "3.8.8"
  }
 },
 "nbformat": 4,
 "nbformat_minor": 5
}
